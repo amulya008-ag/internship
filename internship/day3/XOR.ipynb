{
  "nbformat": 4,
  "nbformat_minor": 0,
  "metadata": {
    "colab": {
      "provenance": []
    },
    "kernelspec": {
      "name": "python3",
      "display_name": "Python 3"
    },
    "language_info": {
      "name": "python"
    }
  },
  "cells": [
    {
      "cell_type": "code",
      "execution_count": 1,
      "metadata": {
        "id": "p8mtNUFEGhTt"
      },
      "outputs": [],
      "source": [
        "\n",
        "import numpy as np\n",
        "import matplotlib.pyplot as plt\n",
        "\n",
        "def sigmoid(x):\n",
        "    return 1 / (1 + np.exp(-x))\n",
        "\n",
        "def sigmoid_derivative(x):\n",
        "    return x * (1 - x)"
      ]
    },
    {
      "cell_type": "code",
      "source": [
        "X = np.array([[0,0], [0,1], [1,0], [1,1]])\n",
        "Y = np.array([[0], [1], [1], [0]])"
      ],
      "metadata": {
        "id": "ftZZUumDGmLZ"
      },
      "execution_count": 3,
      "outputs": []
    },
    {
      "cell_type": "code",
      "source": [
        "np.random.seed(1)\n",
        "input_to_hidden_weights = np.random.rand(2, 2)\n",
        "hidden_bias = np.random.rand(1, 2)\n",
        "hidden_to_output_weights = np.random.rand(2, 1)\n",
        "output_bias = np.random.rand(1, 1)\n",
        "\n",
        "lr = 0.1\n",
        "epochs = 10000\n",
        "\n",
        "for i in range(epochs):\n",
        "    hidden_layer_input = np.dot(X, input_to_hidden_weights) + hidden_bias\n",
        "    hidden_layer_output = sigmoid(hidden_layer_input)\n",
        "\n",
        "    final_input = np.dot(hidden_layer_output, hidden_to_output_weights) + output_bias\n",
        "    final_output = sigmoid(final_input)\n",
        "\n",
        "    loss = Y - final_output\n",
        "\n",
        "    d_output = loss * sigmoid_derivative(final_output)\n",
        "    d_hidden = d_output.dot(hidden_to_output_weights.T) * sigmoid_derivative(hidden_layer_output)\n",
        "\n",
        "    hidden_to_output_weights += hidden_layer_output.T.dot(d_output) * lr\n",
        "    output_bias += np.sum(d_output, axis=0, keepdims=True) * lr\n",
        "\n",
        "    input_to_hidden_weights += X.T.dot(d_hidden) * lr\n",
        "    hidden_bias += np.sum(d_hidden, axis=0, keepdims=True) * lr\n",
        "\n",
        "    if i % 1000 == 0:\n",
        "        print(\"Epoch:\", i, \"Loss:\", np.mean(np.square(loss)))\n"
      ],
      "metadata": {
        "colab": {
          "base_uri": "https://localhost:8080/"
        },
        "id": "-dxZ6g8HGvKf",
        "outputId": "cddfc533-8a66-404c-a06c-f5e3040cd5e7"
      },
      "execution_count": 4,
      "outputs": [
        {
          "output_type": "stream",
          "name": "stdout",
          "text": [
            "Epoch: 0 Loss: 0.28014363590911784\n",
            "Epoch: 1000 Loss: 0.24971731456941582\n",
            "Epoch: 2000 Loss: 0.24834256246704567\n",
            "Epoch: 3000 Loss: 0.2351732079632958\n",
            "Epoch: 4000 Loss: 0.18761745745277097\n",
            "Epoch: 5000 Loss: 0.11376191085651668\n",
            "Epoch: 6000 Loss: 0.028482725248000156\n",
            "Epoch: 7000 Loss: 0.012042153641357236\n",
            "Epoch: 8000 Loss: 0.007162910776260672\n",
            "Epoch: 9000 Loss: 0.0049834071198557334\n"
          ]
        }
      ]
    },
    {
      "cell_type": "markdown",
      "source": [
        "Final output after training"
      ],
      "metadata": {
        "id": "bh7Bc3WeHES0"
      }
    },
    {
      "cell_type": "code",
      "source": [
        "print(\"\\nFinal Output (Rounded):\")\n",
        "rounded_output = np.round(final_output)\n",
        "print(rounded_output)\n",
        "\n",
        "print(\"\\nXOR Truth Table (Predicted):\")\n",
        "for i in range(len(X)):\n",
        "    x1, x2 = X[i]\n",
        "    pred = int(rounded_output[i][0])\n",
        "    print(f\"{int(x1)} XOR {int(x2)} = {pred}\")"
      ],
      "metadata": {
        "colab": {
          "base_uri": "https://localhost:8080/"
        },
        "id": "UwhS8W_XG34W",
        "outputId": "2c94ebab-fd0a-437e-ee70-7bb48206df11"
      },
      "execution_count": 5,
      "outputs": [
        {
          "output_type": "stream",
          "name": "stdout",
          "text": [
            "\n",
            "Final Output (Rounded):\n",
            "[[0.]\n",
            " [1.]\n",
            " [1.]\n",
            " [0.]]\n",
            "\n",
            "XOR Truth Table (Predicted):\n",
            "0 XOR 0 = 0\n",
            "0 XOR 1 = 1\n",
            "1 XOR 0 = 1\n",
            "1 XOR 1 = 0\n"
          ]
        }
      ]
    },
    {
      "cell_type": "markdown",
      "source": [
        "Plot decision boundary"
      ],
      "metadata": {
        "id": "e2LfHGBvG-uH"
      }
    },
    {
      "cell_type": "code",
      "source": [
        "def plot_boundary():\n",
        "    h = 0.01\n",
        "    x_min, x_max = X[:,0].min() - 0.1, X[:,0].max() + 0.1\n",
        "    y_min, y_max = X[:,1].min() - 0.1, X[:,1].max() + 0.1\n",
        "    xx, yy = np.meshgrid(np.arange(x_min, x_max, h),\n",
        "                         np.arange(y_min, y_max, h))\n",
        "    grid = np.c_[xx.ravel(), yy.ravel()]\n",
        "    hidden = sigmoid(np.dot(grid, input_to_hidden_weights) + hidden_bias)\n",
        "    output = sigmoid(np.dot(hidden, hidden_to_output_weights) + output_bias)\n",
        "    output = output.reshape(xx.shape)\n",
        "\n",
        "    plt.contourf(xx, yy, output, levels=[0, 0.5, 1], cmap=plt.cm.RdBu, alpha=0.6)\n",
        "    plt.scatter(X[:, 0], X[:, 1], c=Y.ravel(), edgecolors='k', cmap=plt.cm.RdBu)\n",
        "    plt.title(\"XOR MLP Decision Boundary\")\n",
        "    plt.xlabel(\"Input 1\")\n",
        "    plt.ylabel(\"Input 2\")\n",
        "    plt.show()\n",
        "\n",
        "plot_boundary()"
      ],
      "metadata": {
        "colab": {
          "base_uri": "https://localhost:8080/",
          "height": 472
        },
        "id": "OXHGo3NiG8EO",
        "outputId": "e4a23051-cf54-4f78-f4ed-8e0c66aada2f"
      },
      "execution_count": 6,
      "outputs": [
        {
          "output_type": "display_data",
          "data": {
            "text/plain": [
              "<Figure size 640x480 with 1 Axes>"
            ],
            "image/png": "[encoded data removed]"
          },
          "metadata": {}
        }
      ]
    },
    {
      "cell_type": "code",
      "source": [],
      "metadata": {
        "id": "Xtc4JXCmG9U3"
      },
      "execution_count": null,
      "outputs": []
    }
  ]
}